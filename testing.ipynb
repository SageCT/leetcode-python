{
 "cells": [
  {
   "cell_type": "code",
   "execution_count": null,
   "metadata": {},
   "outputs": [],
   "source": [
    "print(sum([2, -1, 0, 4, -2, 9]))"
   ]
<<<<<<< HEAD
=======
  },
  {
   "cell_type": "code",
   "execution_count": null,
   "metadata": {},
   "outputs": [],
   "source": [
    "from typing import List\n",
    "\n",
    "oof = []\n",
    "for i in range(1, 10):\n",
    "    oof.append(i)\n",
    "    \n",
    "for i in range(1, len(oof)//2 + 1):\n",
    "    print(\"Left Side: \")\n",
    "    print(oof[i])\n",
    "    print(\"Right Side: \") \n",
    "    print(oof[len(oof) - i])"
   ]
>>>>>>> f5fe81c21db8a04c55611ecd835a55b62e78058d
  }
 ],
 "metadata": {
  "kernelspec": {
   "display_name": "Python 3",
   "language": "python",
   "name": "python3"
  },
  "language_info": {
   "codemirror_mode": {
    "name": "ipython",
    "version": 3
   },
   "file_extension": ".py",
   "mimetype": "text/x-python",
   "name": "python",
   "nbconvert_exporter": "python",
   "pygments_lexer": "ipython3",
   "version": "3.11.4"
  },
  "orig_nbformat": 4
 },
 "nbformat": 4,
 "nbformat_minor": 2
}
