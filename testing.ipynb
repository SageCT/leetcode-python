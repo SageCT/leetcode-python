{
 "cells": [
  {
   "cell_type": "code",
   "execution_count": 1,
   "metadata": {},
   "outputs": [
    {
     "name": "stdout",
     "output_type": "stream",
     "text": [
      "12\n"
     ]
    }
   ],
   "source": [
    "print(sum([2, -1, 0, 4, -2, 9]))"
   ]
  },
  {
   "cell_type": "code",
   "execution_count": 11,
   "metadata": {},
   "outputs": [
    {
     "name": "stdout",
     "output_type": "stream",
     "text": [
      "22\n"
     ]
    }
   ],
   "source": [
    "print(sum([3,9,7,3]))"
   ]
  },
  {
   "cell_type": "code",
   "execution_count": 9,
   "metadata": {},
   "outputs": [
    {
     "name": "stdout",
     "output_type": "stream",
     "text": [
      "Left Side: \n",
      "2\n",
      "Right Side: \n",
      "9\n",
      "Left Side: \n",
      "3\n",
      "Right Side: \n",
      "8\n",
      "Left Side: \n",
      "4\n",
      "Right Side: \n",
      "7\n",
      "Left Side: \n",
      "5\n",
      "Right Side: \n",
      "6\n"
     ]
    }
   ],
   "source": [
    "from typing import List\n",
    "\n",
    "oof = []\n",
    "for i in range(1, 10):\n",
    "    oof.append(i)\n",
    "    \n",
    "for i in range(1, len(oof)//2 + 1):\n",
    "    print(\"Left Side: \")\n",
    "    print(oof[i])\n",
    "    print(\"Right Side: \") \n",
    "    print(oof[len(oof) - i])"
   ]
  }
 ],
 "metadata": {
  "kernelspec": {
   "display_name": "Python 3",
   "language": "python",
   "name": "python3"
  },
  "language_info": {
   "codemirror_mode": {
    "name": "ipython",
    "version": 3
   },
   "file_extension": ".py",
   "mimetype": "text/x-python",
   "name": "python",
   "nbconvert_exporter": "python",
   "pygments_lexer": "ipython3",
   "version": "3.11.4"
  },
  "orig_nbformat": 4
 },
 "nbformat": 4,
 "nbformat_minor": 2
}
